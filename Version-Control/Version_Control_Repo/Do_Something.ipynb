{
 "cells": [
  {
   "cell_type": "code",
   "execution_count": 21,
   "metadata": {},
   "outputs": [
    {
     "name": "stdin",
     "output_type": "stream",
     "text": [
      "Enter your name:  pooya\n",
      "Enter in your favorite food:  pizza\n",
      "Enter in how many times a week you eat this food:  3\n"
     ]
    },
    {
     "name": "stdout",
     "output_type": "stream",
     "text": [
      "\n",
      "User Information:\n",
      "pooya , eats  pizza 3  times a week! \n",
      "That means  pooya  eats  pizza  for  14.285714285714285 % of your weekly meals! (NOTE:based on 3 meals a day)\n"
     ]
    },
    {
     "name": "stdin",
     "output_type": "stream",
     "text": [
      "Enter age 20\n"
     ]
    },
    {
     "name": "stdout",
     "output_type": "stream",
     "text": [
      "Your age is 18+\n",
      "You are eligible to vote\n"
     ]
    }
   ],
   "source": [
    "try:  \n",
    "  #Try and grab the name of the person. Cannot be empty\n",
    "  name = input(\"Enter your name: \")\n",
    " \n",
    "  #Check and make sure that name is not empty\n",
    "  if(name == \"\"):\n",
    "      print(\"Name cannot be empty please Try again!!!!\")\n",
    "      kg = True\n",
    "      while(kg):\n",
    "            name = input(\"Enter your name: \")\n",
    "            if(name == \"\"):\n",
    "              print(\"Name cannot be empty please Try again!!!!\")\n",
    "              kg = True\n",
    "            else:\n",
    "              kg = False\n",
    "  #Try and grab the name of the fav food. Cannot be empty\n",
    "\n",
    "  food = input(\"Enter in your favorite food: \")\n",
    "  #Check and make sure that food is not empty\n",
    "  if(food == \"\"):\n",
    "      print(\"Food cannot be empty please Try again!!!!\")\n",
    "      kg = True\n",
    "      while(kg):\n",
    "            food = input(\"Enter your favorite food: \")\n",
    "            if(food == \"\"):\n",
    "              print(\"Food cannot be empty please Try again!!!!\")\n",
    "              kg = True\n",
    "            else:\n",
    "              kg = False\n",
    "  #Try and grab the number of times the fav food is eaten. Cannot be less than 0\n",
    "  times = input(\"Enter in how many times a week you eat this food: \")\n",
    "  #Check and make sure that times is not < 0\n",
    "  if(int(times) < 0):\n",
    "      print(\"The number of times eaten cannot be less than 0!!!!!\")\n",
    "      kg = True\n",
    "      while(kg):\n",
    "          times = input(\"Enter in how many times a week you eat this food: \")\n",
    "          if(int(times) < 0):\n",
    "              print(\"The number of times eaten cannot be less than 0!!!!!\")\n",
    "              kg = True\n",
    "          else:\n",
    "              kg = False\n",
    "  print(\"\\nUser Information:\")\n",
    "  #Now we can print the information we got from the user\n",
    "  print(name, \", eats \",food, times,\" times a week! \")\n",
    "  #do the math to figure out percentage of times fav food eaten\n",
    "  percent = (float(times) / 21.0) * 100.00\n",
    "  #Now we print the user info along with the new info we found out\n",
    "  print(\"That means \",name, \" eats \", food, \" for \", percent, \"% of your weekly meals! (NOTE:based on 3 meals a day)\")\n",
    "except:\n",
    "  print(\"An unknown error has occured, please try again.\")\n",
    "age = int(input(\"Enter age\"))\n",
    "if age >= 18:\n",
    "    print(\"Your age is 18+\")\n",
    "    print(\"You are eligible to vote\")\n",
    "else:\n",
    "    print(\"You are not yet 18\")\n",
    "    print(\"You are not eligible to vote\")"
   ]
  },
  {
   "cell_type": "code",
   "execution_count": null,
   "metadata": {},
   "outputs": [],
   "source": []
  },
  {
   "cell_type": "code",
   "execution_count": null,
   "metadata": {},
   "outputs": [],
   "source": []
  },
  {
   "cell_type": "code",
   "execution_count": null,
   "metadata": {},
   "outputs": [],
   "source": []
  },
  {
   "cell_type": "code",
   "execution_count": null,
   "metadata": {},
   "outputs": [],
   "source": []
  }
 ],
 "metadata": {
  "kernelspec": {
   "display_name": "Python 3",
   "language": "python",
   "name": "python3"
  },
  "language_info": {
   "codemirror_mode": {
    "name": "ipython",
    "version": 3
   },
   "file_extension": ".py",
   "mimetype": "text/x-python",
   "name": "python",
   "nbconvert_exporter": "python",
   "pygments_lexer": "ipython3",
   "version": "3.8.3"
  }
 },
 "nbformat": 4,
 "nbformat_minor": 5
}
