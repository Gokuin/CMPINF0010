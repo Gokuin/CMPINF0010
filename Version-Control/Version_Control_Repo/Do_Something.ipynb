{
 "cells": [
  {
   "cell_type": "code",
   "execution_count": 10,
   "id": "f039d260",
   "metadata": {},
   "outputs": [
    {
     "name": "stdout",
     "output_type": "stream",
     "text": [
      "Enter your name: t\n",
      "Enter in your favorite food: rice\n",
      "Enter in how many times a week you eat this food: 12\n",
      "\n",
      "User Information:\n",
      "t , eats  rice 12  times a week! \n",
      "That means  t  eats  rice  for  57.14285714285714 % of your weekly meals! (NOTE:based on 3 meals a day)\n"
     ]
    }
   ],
   "source": [
    "#Try and grab the name of the person. Cannot be empty\n",
    "name = input(\"Enter your name: \")\n",
    "#Check and make sure that name is not empty\n",
    "if(name == \"\"):\n",
    "    print(\"Name cannot be empty please Try again!!!!\")\n",
    "    kg = True\n",
    "    while(kg):\n",
    "          name = input(\"Enter your name: \")\n",
    "          if(name == \"\"):\n",
    "            print(\"Name cannot be empty please Try again!!!!\")\n",
    "            kg = True\n",
    "          else:\n",
    "            kg = False\n",
    "#Try and grab the name of the fav food. Cannot be empty\n",
    "food = input(\"Enter in your favorite food: \")\n",
    "#Check and make sure that food is not empty\n",
    "if(food == \"\"):\n",
    "    print(\"Food cannot be empty please Try again!!!!\")\n",
    "    kg = True\n",
    "    while(kg):\n",
    "          food = input(\"Enter your favorite food: \")\n",
    "          if(food == \"\"):\n",
    "            print(\"Food cannot be empty please Try again!!!!\")\n",
    "            kg = True\n",
    "          else:\n",
    "            kg = False\n",
    "#Try and grab the number of times the fav food is eaten. Cannot be less than 0\n",
    "times = input(\"Enter in how many times a week you eat this food: \")\n",
    "#Check and make sure that times is not < 0\n",
    "if(int(times) < 0):\n",
    "    print(\"The number of times eaten cannot be less than 0!!!!!\")\n",
    "    kg = True\n",
    "    while(kg):\n",
    "        times = input(\"Enter in how many times a week you eat this food: \")\n",
    "        if(int(times) < 0):\n",
    "            print(\"The number of times eaten cannot be less than 0!!!!!\")\n",
    "            kg = True\n",
    "        else:\n",
    "            kg = False\n",
    "print(\"\\nUser Information:\")\n",
    "#Now we can print the information we got from the user\n",
    "print(name, \", eats \",food, times,\" times a week! \")\n",
    "#do the math to figure out percentage of times fav food eaten\n",
    "percent = (float(times) / 21.0) * 100.00\n",
    "#Now we print the user info along with the new info we found out\n",
    "print(\"That means \",name, \" eats \", food, \" for \", percent, \"% of your weekly meals! (NOTE:based on 3 meals a day)\")"
   ]
  },
  {
   "cell_type": "code",
   "execution_count": null,
   "id": "74dc56ce",
   "metadata": {},
   "outputs": [],
   "source": []
  }
 ],
 "metadata": {
  "kernelspec": {
   "display_name": "Python 3 (ipykernel)",
   "language": "python",
   "name": "python3"
  },
  "language_info": {
   "codemirror_mode": {
    "name": "ipython",
    "version": 3
   },
   "file_extension": ".py",
   "mimetype": "text/x-python",
   "name": "python",
   "nbconvert_exporter": "python",
   "pygments_lexer": "ipython3",
   "version": "3.9.7"
  }
 },
 "nbformat": 4,
 "nbformat_minor": 5
}
