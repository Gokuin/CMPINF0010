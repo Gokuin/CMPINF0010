{
 "cells": [
  {
   "cell_type": "markdown",
   "metadata": {},
   "source": [
    "# Lab Exercises\n",
    "\n",
    "## Processing Data with Python, Part 1\n",
    "\n",
    "### Help\n",
    "\n",
    "If you need help, please contact one of the TAs for the course.\n",
    "\n",
    "All TAs from this course can answer your questions, so feel free to attend any of the office hours that fit your schedule\n",
    "\n",
    "Submit your completed Jupyter notebook on Canvas. You don't need to submit any other files, I have them. :D"
   ]
  },
  {
   "cell_type": "markdown",
   "metadata": {},
   "source": [
    "----"
   ]
  },
  {
   "cell_type": "markdown",
   "metadata": {},
   "source": [
    "## Exercises\n",
    "\n",
    "The exercises for this week are varied, but some deal with `chipotle.tsv`, a dataset concerning Chipotle orders. If you run into any trouble, you may find the texts for this section of the course helpful:\n",
    "\n",
    "* [The Python Data Science Handbook](https://jakevdp.github.io/PythonDataScienceHandbook/), by Jake VanderPlas, or\n",
    "* [Python for Data Analysis](https://proquest.safaribooksonline.com/9781491957653), by Wes McKinney.\n",
    "\n",
    "Oh yeah, and let's import pandas for this notebook."
   ]
  },
  {
   "cell_type": "code",
   "execution_count": 1,
   "metadata": {},
   "outputs": [],
   "source": [
    "import pandas as pd"
   ]
  },
  {
   "cell_type": "markdown",
   "metadata": {},
   "source": [
    "----"
   ]
  },
  {
   "cell_type": "markdown",
   "metadata": {},
   "source": [
    "#### **Exercise 1**\n",
    "\n",
    "Using the `iloc` and slicing syntax, slice the following dataframe based on the highlighted blocks in the image. \n",
    "\n",
    "First, think of the slicing syntax to grab just the rows you want. Then, think of the slicing syntax for the columns you want. \n",
    "\n",
    "Put the row slices *before* the comma and the column slices *after* the comma."
   ]
  },
  {
   "cell_type": "code",
   "execution_count": 6,
   "metadata": {},
   "outputs": [
    {
     "data": {
      "text/html": [
       "<div>\n",
       "<style scoped>\n",
       "    .dataframe tbody tr th:only-of-type {\n",
       "        vertical-align: middle;\n",
       "    }\n",
       "\n",
       "    .dataframe tbody tr th {\n",
       "        vertical-align: top;\n",
       "    }\n",
       "\n",
       "    .dataframe thead th {\n",
       "        text-align: right;\n",
       "    }\n",
       "</style>\n",
       "<table border=\"1\" class=\"dataframe\">\n",
       "  <thead>\n",
       "    <tr style=\"text-align: right;\">\n",
       "      <th></th>\n",
       "      <th>1</th>\n",
       "      <th>2</th>\n",
       "    </tr>\n",
       "  </thead>\n",
       "  <tbody>\n",
       "    <tr>\n",
       "      <th>0</th>\n",
       "      <td>2</td>\n",
       "      <td>3</td>\n",
       "    </tr>\n",
       "    <tr>\n",
       "      <th>1</th>\n",
       "      <td>5</td>\n",
       "      <td>6</td>\n",
       "    </tr>\n",
       "  </tbody>\n",
       "</table>\n",
       "</div>"
      ],
      "text/plain": [
       "   1  2\n",
       "0  2  3\n",
       "1  5  6"
      ]
     },
     "execution_count": 6,
     "metadata": {},
     "output_type": "execute_result"
    }
   ],
   "source": [
    "# here's our DataFrame\n",
    "indexing_example = pd.DataFrame([[1,2,3],[4,5,6],[7,8,9]])\n",
    "#this grabs rows 0 and 1 along with columns 1,2\n",
    "#prints\n",
    "#1\t2\n",
    "#0\t2\t3\n",
    "#1\t5\t6\n",
    "indexing_example.iloc[[0,1],[1,2]]"
   ]
  },
  {
   "cell_type": "markdown",
   "metadata": {},
   "source": [
    "Select the second two columns of the first two rows.  \n",
    "\n",
    "![first slice exercise](img/indexing1.png)  "
   ]
  },
  {
   "cell_type": "code",
   "execution_count": 13,
   "metadata": {},
   "outputs": [
    {
     "data": {
      "text/html": [
       "<div>\n",
       "<style scoped>\n",
       "    .dataframe tbody tr th:only-of-type {\n",
       "        vertical-align: middle;\n",
       "    }\n",
       "\n",
       "    .dataframe tbody tr th {\n",
       "        vertical-align: top;\n",
       "    }\n",
       "\n",
       "    .dataframe thead th {\n",
       "        text-align: right;\n",
       "    }\n",
       "</style>\n",
       "<table border=\"1\" class=\"dataframe\">\n",
       "  <thead>\n",
       "    <tr style=\"text-align: right;\">\n",
       "      <th></th>\n",
       "      <th>1</th>\n",
       "      <th>2</th>\n",
       "    </tr>\n",
       "  </thead>\n",
       "  <tbody>\n",
       "    <tr>\n",
       "      <th>0</th>\n",
       "      <td>2</td>\n",
       "      <td>3</td>\n",
       "    </tr>\n",
       "    <tr>\n",
       "      <th>1</th>\n",
       "      <td>5</td>\n",
       "      <td>6</td>\n",
       "    </tr>\n",
       "  </tbody>\n",
       "</table>\n",
       "</div>"
      ],
      "text/plain": [
       "   1  2\n",
       "0  2  3\n",
       "1  5  6"
      ]
     },
     "execution_count": 13,
     "metadata": {},
     "output_type": "execute_result"
    }
   ],
   "source": [
    "# put the slicing syntax in your answer here\n",
    "# grabs only the last row of the cube and all three columns of that last row\n",
    "indexing_example.iloc[[0,1],[1,2]]\n",
    "#prints out\n",
    "/*\n",
    "1\t2\n",
    "0\t2\t3\n",
    "1\t5\t6\n",
    "*/"
   ]
  },
  {
   "cell_type": "markdown",
   "metadata": {},
   "source": [
    "Select the third row.\n",
    "\n",
    "![first slice exercise](img/indexing2.png)"
   ]
  },
  {
   "cell_type": "code",
   "execution_count": 11,
   "metadata": {},
   "outputs": [
    {
     "data": {
      "text/html": [
       "<div>\n",
       "<style scoped>\n",
       "    .dataframe tbody tr th:only-of-type {\n",
       "        vertical-align: middle;\n",
       "    }\n",
       "\n",
       "    .dataframe tbody tr th {\n",
       "        vertical-align: top;\n",
       "    }\n",
       "\n",
       "    .dataframe thead th {\n",
       "        text-align: right;\n",
       "    }\n",
       "</style>\n",
       "<table border=\"1\" class=\"dataframe\">\n",
       "  <thead>\n",
       "    <tr style=\"text-align: right;\">\n",
       "      <th></th>\n",
       "      <th>0</th>\n",
       "      <th>1</th>\n",
       "      <th>2</th>\n",
       "    </tr>\n",
       "  </thead>\n",
       "  <tbody>\n",
       "    <tr>\n",
       "      <th>2</th>\n",
       "      <td>7</td>\n",
       "      <td>8</td>\n",
       "      <td>9</td>\n",
       "    </tr>\n",
       "  </tbody>\n",
       "</table>\n",
       "</div>"
      ],
      "text/plain": [
       "   0  1  2\n",
       "2  7  8  9"
      ]
     },
     "execution_count": 11,
     "metadata": {},
     "output_type": "execute_result"
    }
   ],
   "source": [
    "\n",
    "indexing_example.iloc[[2],[0,1,2]]"
   ]
  },
  {
   "cell_type": "markdown",
   "metadata": {},
   "source": [
    "Select the first two columns.\n",
    "\n",
    "![first slice exercise](img/indexing3.png)"
   ]
  },
  {
   "cell_type": "code",
   "execution_count": 10,
   "metadata": {},
   "outputs": [
    {
     "data": {
      "text/html": [
       "<div>\n",
       "<style scoped>\n",
       "    .dataframe tbody tr th:only-of-type {\n",
       "        vertical-align: middle;\n",
       "    }\n",
       "\n",
       "    .dataframe tbody tr th {\n",
       "        vertical-align: top;\n",
       "    }\n",
       "\n",
       "    .dataframe thead th {\n",
       "        text-align: right;\n",
       "    }\n",
       "</style>\n",
       "<table border=\"1\" class=\"dataframe\">\n",
       "  <thead>\n",
       "    <tr style=\"text-align: right;\">\n",
       "      <th></th>\n",
       "      <th>0</th>\n",
       "      <th>1</th>\n",
       "    </tr>\n",
       "  </thead>\n",
       "  <tbody>\n",
       "    <tr>\n",
       "      <th>0</th>\n",
       "      <td>1</td>\n",
       "      <td>2</td>\n",
       "    </tr>\n",
       "    <tr>\n",
       "      <th>1</th>\n",
       "      <td>4</td>\n",
       "      <td>5</td>\n",
       "    </tr>\n",
       "    <tr>\n",
       "      <th>2</th>\n",
       "      <td>7</td>\n",
       "      <td>8</td>\n",
       "    </tr>\n",
       "  </tbody>\n",
       "</table>\n",
       "</div>"
      ],
      "text/plain": [
       "   0  1\n",
       "0  1  2\n",
       "1  4  5\n",
       "2  7  8"
      ]
     },
     "execution_count": 10,
     "metadata": {},
     "output_type": "execute_result"
    }
   ],
   "source": [
    "# your answer here!\n",
    "indexing_example.iloc[[0,1,2],[0,1]]"
   ]
  },
  {
   "cell_type": "markdown",
   "metadata": {},
   "source": [
    "Select the first two columns of the second row.\n",
    "\n",
    "![first slice exercise](img/indexing4.png)"
   ]
  },
  {
   "cell_type": "code",
   "execution_count": 9,
   "metadata": {},
   "outputs": [
    {
     "data": {
      "text/html": [
       "<div>\n",
       "<style scoped>\n",
       "    .dataframe tbody tr th:only-of-type {\n",
       "        vertical-align: middle;\n",
       "    }\n",
       "\n",
       "    .dataframe tbody tr th {\n",
       "        vertical-align: top;\n",
       "    }\n",
       "\n",
       "    .dataframe thead th {\n",
       "        text-align: right;\n",
       "    }\n",
       "</style>\n",
       "<table border=\"1\" class=\"dataframe\">\n",
       "  <thead>\n",
       "    <tr style=\"text-align: right;\">\n",
       "      <th></th>\n",
       "      <th>0</th>\n",
       "      <th>1</th>\n",
       "    </tr>\n",
       "  </thead>\n",
       "  <tbody>\n",
       "    <tr>\n",
       "      <th>1</th>\n",
       "      <td>4</td>\n",
       "      <td>5</td>\n",
       "    </tr>\n",
       "  </tbody>\n",
       "</table>\n",
       "</div>"
      ],
      "text/plain": [
       "   0  1\n",
       "1  4  5"
      ]
     },
     "execution_count": 9,
     "metadata": {},
     "output_type": "execute_result"
    }
   ],
   "source": [
    "# your answer here!\n",
    "indexing_example.iloc[[1],[0,1]]"
   ]
  },
  {
   "cell_type": "markdown",
   "metadata": {},
   "source": [
    "#### **Exercise 2**\n",
    "\n",
    "You're going to be working with Chipotle data from here on out. The data is in a file called `chipotle.tsv`. Since this is a tab-separated file (not a CSV, which uses commas), you'll have to specify `sep='\\t'` on your read function.\n",
    "\n",
    "Import your dataset from `chipotle.tsv` and assign it to a variable called `chip`. Then, view the first 10 entries in your new DataFrame."
   ]
  },
  {
   "cell_type": "code",
   "execution_count": 52,
   "metadata": {},
   "outputs": [
    {
     "data": {
      "text/html": [
       "<div>\n",
       "<style scoped>\n",
       "    .dataframe tbody tr th:only-of-type {\n",
       "        vertical-align: middle;\n",
       "    }\n",
       "\n",
       "    .dataframe tbody tr th {\n",
       "        vertical-align: top;\n",
       "    }\n",
       "\n",
       "    .dataframe thead th {\n",
       "        text-align: right;\n",
       "    }\n",
       "</style>\n",
       "<table border=\"1\" class=\"dataframe\">\n",
       "  <thead>\n",
       "    <tr style=\"text-align: right;\">\n",
       "      <th></th>\n",
       "      <th>order_id</th>\n",
       "      <th>quantity</th>\n",
       "      <th>item_name</th>\n",
       "      <th>choice_description</th>\n",
       "      <th>item_price</th>\n",
       "    </tr>\n",
       "  </thead>\n",
       "  <tbody>\n",
       "    <tr>\n",
       "      <th>0</th>\n",
       "      <td>1</td>\n",
       "      <td>1</td>\n",
       "      <td>Chips and Fresh Tomato Salsa</td>\n",
       "      <td>NaN</td>\n",
       "      <td>2.39</td>\n",
       "    </tr>\n",
       "    <tr>\n",
       "      <th>1</th>\n",
       "      <td>1</td>\n",
       "      <td>1</td>\n",
       "      <td>Izze</td>\n",
       "      <td>[Clementine]</td>\n",
       "      <td>3.39</td>\n",
       "    </tr>\n",
       "    <tr>\n",
       "      <th>2</th>\n",
       "      <td>1</td>\n",
       "      <td>1</td>\n",
       "      <td>Nantucket Nectar</td>\n",
       "      <td>[Apple]</td>\n",
       "      <td>3.39</td>\n",
       "    </tr>\n",
       "    <tr>\n",
       "      <th>3</th>\n",
       "      <td>1</td>\n",
       "      <td>1</td>\n",
       "      <td>Chips and Tomatillo-Green Chili Salsa</td>\n",
       "      <td>NaN</td>\n",
       "      <td>2.39</td>\n",
       "    </tr>\n",
       "    <tr>\n",
       "      <th>4</th>\n",
       "      <td>2</td>\n",
       "      <td>2</td>\n",
       "      <td>Chicken Bowl</td>\n",
       "      <td>[Tomatillo-Red Chili Salsa (Hot), [Black Beans...</td>\n",
       "      <td>16.98</td>\n",
       "    </tr>\n",
       "    <tr>\n",
       "      <th>5</th>\n",
       "      <td>3</td>\n",
       "      <td>1</td>\n",
       "      <td>Chicken Bowl</td>\n",
       "      <td>[Fresh Tomato Salsa (Mild), [Rice, Cheese, Sou...</td>\n",
       "      <td>10.98</td>\n",
       "    </tr>\n",
       "    <tr>\n",
       "      <th>6</th>\n",
       "      <td>3</td>\n",
       "      <td>1</td>\n",
       "      <td>Side of Chips</td>\n",
       "      <td>NaN</td>\n",
       "      <td>1.69</td>\n",
       "    </tr>\n",
       "    <tr>\n",
       "      <th>7</th>\n",
       "      <td>4</td>\n",
       "      <td>1</td>\n",
       "      <td>Steak Burrito</td>\n",
       "      <td>[Tomatillo Red Chili Salsa, [Fajita Vegetables...</td>\n",
       "      <td>11.75</td>\n",
       "    </tr>\n",
       "    <tr>\n",
       "      <th>8</th>\n",
       "      <td>4</td>\n",
       "      <td>1</td>\n",
       "      <td>Steak Soft Tacos</td>\n",
       "      <td>[Tomatillo Green Chili Salsa, [Pinto Beans, Ch...</td>\n",
       "      <td>9.25</td>\n",
       "    </tr>\n",
       "    <tr>\n",
       "      <th>9</th>\n",
       "      <td>5</td>\n",
       "      <td>1</td>\n",
       "      <td>Steak Burrito</td>\n",
       "      <td>[Fresh Tomato Salsa, [Rice, Black Beans, Pinto...</td>\n",
       "      <td>9.25</td>\n",
       "    </tr>\n",
       "  </tbody>\n",
       "</table>\n",
       "</div>"
      ],
      "text/plain": [
       "   order_id  quantity                              item_name  \\\n",
       "0         1         1           Chips and Fresh Tomato Salsa   \n",
       "1         1         1                                   Izze   \n",
       "2         1         1                       Nantucket Nectar   \n",
       "3         1         1  Chips and Tomatillo-Green Chili Salsa   \n",
       "4         2         2                           Chicken Bowl   \n",
       "5         3         1                           Chicken Bowl   \n",
       "6         3         1                          Side of Chips   \n",
       "7         4         1                          Steak Burrito   \n",
       "8         4         1                       Steak Soft Tacos   \n",
       "9         5         1                          Steak Burrito   \n",
       "\n",
       "                                  choice_description  item_price  \n",
       "0                                                NaN        2.39  \n",
       "1                                       [Clementine]        3.39  \n",
       "2                                            [Apple]        3.39  \n",
       "3                                                NaN        2.39  \n",
       "4  [Tomatillo-Red Chili Salsa (Hot), [Black Beans...       16.98  \n",
       "5  [Fresh Tomato Salsa (Mild), [Rice, Cheese, Sou...       10.98  \n",
       "6                                                NaN        1.69  \n",
       "7  [Tomatillo Red Chili Salsa, [Fajita Vegetables...       11.75  \n",
       "8  [Tomatillo Green Chili Salsa, [Pinto Beans, Ch...        9.25  \n",
       "9  [Fresh Tomato Salsa, [Rice, Black Beans, Pinto...        9.25  "
      ]
     },
     "execution_count": 52,
     "metadata": {},
     "output_type": "execute_result"
    }
   ],
   "source": [
    "import pandas as chipo\n",
    "#reads in the csv into the chip object with a custom seperator of tab\n",
    "chip = chipo.read_csv('chipotle.tsv',sep= '\\t')\n",
    "#prints out the first 10 rows and all columns of the rows\n",
    "chip.iloc[[0,1,2,3,4,5,6,7,8,9]]"
   ]
  },
  {
   "cell_type": "markdown",
   "metadata": {},
   "source": [
    "#### **Exercise 3**\n",
    "\n",
    "Print the total number of observations in the DataFrame. There are a number of ways you can do this, but the value will be how many individual things were ordered at Chipotle."
   ]
  },
  {
   "cell_type": "code",
   "execution_count": 8,
   "metadata": {},
   "outputs": [
    {
     "name": "stdout",
     "output_type": "stream",
     "text": [
      "-----Total number of Observations in the DataFrame-----\n"
     ]
    },
    {
     "data": {
      "text/plain": [
       "4622"
      ]
     },
     "execution_count": 8,
     "metadata": {},
     "output_type": "execute_result"
    }
   ],
   "source": [
    "import pandas as chipo\n",
    "#reads in the csv into the chip object with a custom seperator of tab\n",
    "total_Item_Ordered = int(0)\n",
    "#chip is now our data frame\n",
    "chip = chipo.read_csv('chipotle.tsv',sep= '\\t')\n",
    "#for index, row in chip.iterrows():\n",
    "    #total_Item_Ordered += row[\"quantity\"]\n",
    "print(\"-----Total number of Observations in the DataFrame-----\")\n",
    "#now we print the number of items ordered in the the whole data selection\n",
    "len(chip)"
   ]
  },
  {
   "cell_type": "markdown",
   "metadata": {},
   "source": [
    "#### **Exercise 4**\n",
    "\n",
    "Print the number of columns in the DataFrame, and then print the names of all columns in the DataFrame. This will give you a guide to how the DataFrame is indexed."
   ]
  },
  {
   "cell_type": "code",
   "execution_count": 50,
   "metadata": {},
   "outputs": [
    {
     "name": "stdout",
     "output_type": "stream",
     "text": [
      "   0             1             2             3             4          "
     ]
    },
    {
     "data": {
      "text/plain": [
       "['order_id', 'quantity', 'item_name', 'choice_description', 'item_price']"
      ]
     },
     "execution_count": 50,
     "metadata": {},
     "output_type": "execute_result"
    }
   ],
   "source": [
    "\n",
    "#reads in the csv into the chip object with a custom seperator of tab\n",
    "#chip is now our data frame\n",
    "chip = chipo.read_csv('chipotle.tsv',sep= '\\t')\n",
    "#now we print the number of rows in our data fram ie chip\n",
    "x = int(0)\n",
    "#while x is less than the number of rows in the data frame\n",
    "while x < len(chip.columns):\n",
    "    #print out that columns corresponding id, speical print that has the \\n wait until the end of the loop\n",
    "    print(\"  \",x, \"        \", end = \" \")\n",
    "    #increment the counter by one\n",
    "    x =x + 1\n",
    "#then print the column names\n",
    "list(chip.columns)"
   ]
  },
  {
   "cell_type": "markdown",
   "metadata": {},
   "source": [
    "#### **Exercise 5**\n",
    "\n",
    "Calculate, for each order number, how much the order costs. \n",
    "\n",
    "In other words, you're going to iterate through the DataFrame and, for each order number, add up the `item_price` for each item in the order.\n",
    "\n",
    "Store the order prices in a list. Then, tell me how much the 100th, 500th, and 1000th order cost. "
   ]
  },
  {
   "cell_type": "code",
   "execution_count": 6,
   "metadata": {},
   "outputs": [
    {
     "name": "stdout",
     "output_type": "stream",
     "text": [
      "Order Total for the 100th order:  10.08\n",
      "Order Total for the 500th order:  12.15\n",
      "Order Total for the 1000th order:  20.5\n"
     ]
    },
    {
     "data": {
      "text/html": [
       "<div>\n",
       "<style scoped>\n",
       "    .dataframe tbody tr th:only-of-type {\n",
       "        vertical-align: middle;\n",
       "    }\n",
       "\n",
       "    .dataframe tbody tr th {\n",
       "        vertical-align: top;\n",
       "    }\n",
       "\n",
       "    .dataframe thead th {\n",
       "        text-align: right;\n",
       "    }\n",
       "</style>\n",
       "<table border=\"1\" class=\"dataframe\">\n",
       "  <thead>\n",
       "    <tr style=\"text-align: right;\">\n",
       "      <th></th>\n",
       "      <th>order_id</th>\n",
       "      <th>quantity</th>\n",
       "      <th>item_name</th>\n",
       "      <th>choice_description</th>\n",
       "      <th>item_price</th>\n",
       "    </tr>\n",
       "  </thead>\n",
       "  <tbody>\n",
       "    <tr>\n",
       "      <th>227</th>\n",
       "      <td>100</td>\n",
       "      <td>1</td>\n",
       "      <td>Steak Burrito</td>\n",
       "      <td>[Roasted Chili Corn Salsa (Medium), [Rice, Bla...</td>\n",
       "      <td>8.99</td>\n",
       "    </tr>\n",
       "    <tr>\n",
       "      <th>228</th>\n",
       "      <td>100</td>\n",
       "      <td>1</td>\n",
       "      <td>Canned Soda</td>\n",
       "      <td>[Mountain Dew]</td>\n",
       "      <td>1.09</td>\n",
       "    </tr>\n",
       "    <tr>\n",
       "      <th>1226</th>\n",
       "      <td>500</td>\n",
       "      <td>1</td>\n",
       "      <td>Chicken Bowl</td>\n",
       "      <td>[Fresh Tomato Salsa, [Fajita Vegetables, Rice]]</td>\n",
       "      <td>8.75</td>\n",
       "    </tr>\n",
       "    <tr>\n",
       "      <th>1227</th>\n",
       "      <td>500</td>\n",
       "      <td>1</td>\n",
       "      <td>Chips</td>\n",
       "      <td>NaN</td>\n",
       "      <td>2.15</td>\n",
       "    </tr>\n",
       "    <tr>\n",
       "      <th>1228</th>\n",
       "      <td>500</td>\n",
       "      <td>1</td>\n",
       "      <td>Canned Soft Drink</td>\n",
       "      <td>[Diet Coke]</td>\n",
       "      <td>1.25</td>\n",
       "    </tr>\n",
       "    <tr>\n",
       "      <th>2517</th>\n",
       "      <td>1000</td>\n",
       "      <td>1</td>\n",
       "      <td>Barbacoa Bowl</td>\n",
       "      <td>[Roasted Chili Corn Salsa, [Rice, Black Beans,...</td>\n",
       "      <td>9.25</td>\n",
       "    </tr>\n",
       "    <tr>\n",
       "      <th>2518</th>\n",
       "      <td>1000</td>\n",
       "      <td>1</td>\n",
       "      <td>Chicken Bowl</td>\n",
       "      <td>[Fresh Tomato Salsa, [Black Beans, Cheese, Gua...</td>\n",
       "      <td>11.25</td>\n",
       "    </tr>\n",
       "  </tbody>\n",
       "</table>\n",
       "</div>"
      ],
      "text/plain": [
       "      order_id  quantity          item_name  \\\n",
       "227        100         1      Steak Burrito   \n",
       "228        100         1        Canned Soda   \n",
       "1226       500         1       Chicken Bowl   \n",
       "1227       500         1              Chips   \n",
       "1228       500         1  Canned Soft Drink   \n",
       "2517      1000         1      Barbacoa Bowl   \n",
       "2518      1000         1       Chicken Bowl   \n",
       "\n",
       "                                     choice_description  item_price  \n",
       "227   [Roasted Chili Corn Salsa (Medium), [Rice, Bla...        8.99  \n",
       "228                                      [Mountain Dew]        1.09  \n",
       "1226    [Fresh Tomato Salsa, [Fajita Vegetables, Rice]]        8.75  \n",
       "1227                                                NaN        2.15  \n",
       "1228                                        [Diet Coke]        1.25  \n",
       "2517  [Roasted Chili Corn Salsa, [Rice, Black Beans,...        9.25  \n",
       "2518  [Fresh Tomato Salsa, [Black Beans, Cheese, Gua...       11.25  "
      ]
     },
     "execution_count": 6,
     "metadata": {},
     "output_type": "execute_result"
    }
   ],
   "source": [
    "#reads in the csv into the chip object with a custom seperator of tab\n",
    "#chip is now our data frame\n",
    "chip = chipo.read_csv('chipotle.tsv',sep= '\\t')\n",
    "line_Total = int(0)\n",
    "total = int(0)\n",
    "orderT_List = []\n",
    "#order id starts at 1\n",
    "old_OrID = 1\n",
    "#will change when a new id comes in\n",
    "new_OrID = 0\n",
    "#orders will have multtiple items under the same id\n",
    "for index, row in chip.iterrows():\n",
    "    new_OrID = row[\"order_id\"]\n",
    "    #check if its still the same order\n",
    "    if new_OrID == old_OrID:\n",
    "        line_Total += row[\"item_price\"]\n",
    "    #the old order is done this is a new one\n",
    "    else:\n",
    "        #append that order to the list\n",
    "        orderT_List.append(line_Total)\n",
    "        #reset the line total\n",
    "        line_Total = 0\n",
    "        #the old id should be the new id now\n",
    "        old_OrID = new_OrID\n",
    "        line_Total += row[\"item_price\"]\n",
    "    #total of all the orders\n",
    "    total += row[\"item_price\"]\n",
    "print(\"Order Total for the 100th order: \", orderT_List[99])\n",
    "#order number 100 is two items\n",
    "# steak burrito 8.99\n",
    "# canned soda 1.09\n",
    "# Total: 10.08\n",
    "print(\"Order Total for the 500th order: \", orderT_List[499])\n",
    "#order number 500 is three items\n",
    "# chicken bowl 8.75\n",
    "# canned soda 1.25\n",
    "# chips 2.15\n",
    "# Total: 12.15\n",
    "print(\"Order Total for the 1000th order: \", orderT_List[999])\n",
    "#order number 1000 is two items\n",
    "# barbacoa bowl 9.25\n",
    "# chicken bowl 11.09\n",
    "# Total: 20.50\n",
    "\n",
    "#print(\"Total of all orders $\", total)\n",
    "#sanity check dumps the rows for those three orders on screen to double check\n",
    "#chip.iloc[[227,228,1226,1227,1228,2517,2518]]"
   ]
  },
  {
   "cell_type": "markdown",
   "metadata": {},
   "source": [
    "#### **Exercise 6**\n",
    "\n",
    "This assignment is a bit tricky! Check out the Python for Everyone's section on [dictionaries](https://www.py4e.com/html3/09-dictionaries) if you're confused.\n",
    "\n",
    "Make a new dictionary. Then, iterate through the DataFrame. For each `item_name`, do the following:\n",
    "\n",
    "* if `dict[item_name]` exists, add `quantity` to it;\n",
    "* if not, set `dict[item_name]` to `quantity`;\n",
    "\n",
    "You're essentially counting the number of times that a given item has been ordered."
   ]
  },
  {
   "cell_type": "code",
   "execution_count": 119,
   "metadata": {},
   "outputs": [
    {
     "data": {
      "text/plain": [
       "{'item_name': '',\n",
       " 'quantity': 0,\n",
       " 'Chips and Fresh Tomato Salsa': 130,\n",
       " 'Izze': 20,\n",
       " 'Nantucket Nectar': 29,\n",
       " 'Chips and Tomatillo-Green Chili Salsa': 33,\n",
       " 'Chicken Bowl': 761,\n",
       " 'Side of Chips': 110,\n",
       " 'Steak Burrito': 386,\n",
       " 'Steak Soft Tacos': 56,\n",
       " 'Chips and Guacamole': 506,\n",
       " 'Chicken Crispy Tacos': 50,\n",
       " 'Chicken Soft Tacos': 120,\n",
       " 'Chicken Burrito': 591,\n",
       " 'Canned Soda': 126,\n",
       " 'Barbacoa Burrito': 91,\n",
       " 'Carnitas Burrito': 60,\n",
       " 'Carnitas Bowl': 71,\n",
       " 'Bottled Water': 211,\n",
       " 'Chips and Tomatillo Green Chili Salsa': 45,\n",
       " 'Barbacoa Bowl': 66,\n",
       " 'Chips': 230,\n",
       " 'Chicken Salad Bowl': 123,\n",
       " 'Steak Bowl': 221,\n",
       " 'Barbacoa Soft Tacos': 25,\n",
       " 'Veggie Burrito': 97,\n",
       " 'Veggie Bowl': 87,\n",
       " 'Steak Crispy Tacos': 36,\n",
       " 'Chips and Tomatillo Red Chili Salsa': 50,\n",
       " 'Barbacoa Crispy Tacos': 12,\n",
       " 'Veggie Salad Bowl': 18,\n",
       " 'Chips and Roasted Chili-Corn Salsa': 18,\n",
       " 'Chips and Roasted Chili Corn Salsa': 23,\n",
       " 'Carnitas Soft Tacos': 40,\n",
       " 'Chicken Salad': 9,\n",
       " 'Canned Soft Drink': 351,\n",
       " 'Steak Salad Bowl': 31,\n",
       " '6 Pack Soft Drink': 55,\n",
       " 'Chips and Tomatillo-Red Chili Salsa': 25,\n",
       " 'Bowl': 4,\n",
       " 'Burrito': 6,\n",
       " 'Crispy Tacos': 2,\n",
       " 'Carnitas Crispy Tacos': 8,\n",
       " 'Steak Salad': 4,\n",
       " 'Chips and Mild Fresh Tomato Salsa': 1,\n",
       " 'Veggie Soft Tacos': 8,\n",
       " 'Carnitas Salad Bowl': 6,\n",
       " 'Barbacoa Salad Bowl': 10,\n",
       " 'Salad': 2,\n",
       " 'Veggie Crispy Tacos': 1,\n",
       " 'Veggie Salad': 6,\n",
       " 'Carnitas Salad': 1}"
      ]
     },
     "execution_count": 119,
     "metadata": {},
     "output_type": "execute_result"
    }
   ],
   "source": [
    "dict = {\"item_name\":\"\",\"quantity\":0}\n",
    "#iterate over the orders, grabbing the item's name and quantity\n",
    "for index, row in chip.iterrows():\n",
    "    item_name = row[\"item_name\"]\n",
    "    item_quantity = row[\"quantity\"]\n",
    "    #check if the item is already in the dictionary\n",
    "    if item_name in dict.keys():\n",
    "        #it is, so update the quantity\n",
    "        dict[item_name] += item_quantity\n",
    "    else:\n",
    "        #its not, so add the item to the dictionary\n",
    "        dict[item_name] = item_quantity\n",
    "#print out the key value pairings to the screen\n",
    "#this shows us the number of times all the items have been ordered\n",
    "dict"
   ]
  },
  {
   "cell_type": "code",
   "execution_count": null,
   "metadata": {},
   "outputs": [],
   "source": []
  }
 ],
 "metadata": {
  "kernelspec": {
   "display_name": "Python 3 (ipykernel)",
   "language": "python",
   "name": "python3"
  },
  "language_info": {
   "codemirror_mode": {
    "name": "ipython",
    "version": 3
   },
   "file_extension": ".py",
   "mimetype": "text/x-python",
   "name": "python",
   "nbconvert_exporter": "python",
   "pygments_lexer": "ipython3",
   "version": "3.9.7"
  }
 },
 "nbformat": 4,
 "nbformat_minor": 4
}
